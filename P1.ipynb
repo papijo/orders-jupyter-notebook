{
 "cells": [
  {
   "cell_type": "code",
   "execution_count": 4,
   "id": "18017ab5",
   "metadata": {},
   "outputs": [],
   "source": [
    "#import libraries\n",
    "\n",
    "import mysql.connector\n",
    "from mysql.connector import Error\n",
    "import pandas as pd"
   ]
  },
  {
   "cell_type": "code",
   "execution_count": 4,
   "id": "cbb8c1a5",
   "metadata": {},
   "outputs": [
    {
     "name": "stdout",
     "output_type": "stream",
     "text": [
      "MySQL Database Connection Successful\n"
     ]
    }
   ],
   "source": [
    "def create_server_connection(host_name, user_name, user_password, port):\n",
    "    connection = None\n",
    "    try:\n",
    "        connection = mysql.connector.connect(\n",
    "            host = host_name, \n",
    "            user = user_name, \n",
    "            password = user_password,\n",
    "            port = port\n",
    "        )\n",
    "        print(\"MySQL Database Connection Successful\")\n",
    "    except Error as err:\n",
    "        print(f\"Error: '{err}'\")\n",
    "    return connection\n",
    "              \n",
    "#Put Our Mysql Terminal Password \n",
    "pw = \"qwaszxedcrfv\"\n",
    "#Database Name\n",
    "p = 3306\n",
    "db = 'mysql_python'\n",
    "connection = create_server_connection(\"localhost\", \"root\", pw, p)"
   ]
  },
  {
   "cell_type": "code",
   "execution_count": 5,
   "id": "2dcaf037",
   "metadata": {},
   "outputs": [
    {
     "name": "stdout",
     "output_type": "stream",
     "text": [
      "Database Created Successfully\n"
     ]
    }
   ],
   "source": [
    "#Create mysql_python database\n",
    "def create_database(connection, query):\n",
    "    cursor = connection.cursor()# Used to execute MySql Statements\n",
    "    try:\n",
    "        cursor.execute(query)\n",
    "        print(\"Database Created Successfully\")\n",
    "    except Error as err:\n",
    "        print(f\"Error : '{err}'\")\n",
    "\n",
    "create_database_query = \"Create database mysql_python\"\n",
    "create_database(connection, create_database_query)"
   ]
  },
  {
   "cell_type": "code",
   "execution_count": 7,
   "id": "f959667f",
   "metadata": {},
   "outputs": [],
   "source": [
    "#Connect to Database\n",
    "def create_db_connection(host_name, user_name, user_password, db_name):\n",
    "    connection = None\n",
    "    try:\n",
    "        connection = mysql.connector.connect(\n",
    "            host=host_name, \n",
    "            user = user_name, \n",
    "            password=user_password,\n",
    "            database = db_name\n",
    "        )\n",
    "        print(\"MySQL Database Connection Successful\")\n",
    "    except Error as err:\n",
    "        print(f\"Error: '{err}'\")\n",
    "    return connection"
   ]
  },
  {
   "cell_type": "code",
   "execution_count": 1,
   "id": "65a3e8d3",
   "metadata": {},
   "outputs": [],
   "source": [
    "#Execute SQL Queries\n",
    "def execute_query(connection, query):\n",
    "    cursor = connection.cursor()\n",
    "    try:\n",
    "        cursor.execute(query)\n",
    "        connection.commit()\n",
    "        print(\"Query was successful\")\n",
    "    except Error as err:\n",
    "        print(f\"Error: '{err}'\")"
   ]
  },
  {
   "cell_type": "code",
   "execution_count": 10,
   "id": "67b67f9c",
   "metadata": {},
   "outputs": [
    {
     "name": "stdout",
     "output_type": "stream",
     "text": [
      "MySQL Database Connection Successful\n",
      "Query was successful\n"
     ]
    }
   ],
   "source": [
    "pw = \"qwaszxedcrfv\"\n",
    "db = 'mysql_python'\n",
    "create_orders_tables = \"\"\"\n",
    "create table orders(\n",
    "order_id int primary key, \n",
    "customer_name varchar(30) not null,\n",
    "product_name varchar(20) not null,\n",
    "date_ordered date,\n",
    "quantity int,\n",
    "unit_price float,\n",
    "phone_number varchar(20));\n",
    "\"\"\"\n",
    "\n",
    "#Connect to the database\n",
    "connection = create_db_connection(\"localhost\", \"root\", pw, db)\n",
    "execute_query(connection, create_orders_tables)"
   ]
  },
  {
   "cell_type": "code",
   "execution_count": 11,
   "id": "3b69c489",
   "metadata": {},
   "outputs": [
    {
     "name": "stdout",
     "output_type": "stream",
     "text": [
      "MySQL Database Connection Successful\n",
      "Query was successful\n"
     ]
    }
   ],
   "source": [
    " #Insert data\n",
    "\n",
    "data_orders = \"\"\"\n",
    "insert into orders values\n",
    "(101, \"Steve\", \"Laptop\", \"2018-06-12\", 2, 800, '6293730802'),\n",
    "(102, \"Jos\", \"Books\", \"2019-02-10\", 10, 12, '8367489124'),\n",
    "(103, \"Stacy\", \"Trousers\", \"2019-12-25\", 5, 50, '8976123645'),\n",
    "(104, \"Nancy\", \"T-shirts\", \"2018-07-14\", 7, 30, '7368145099'),\n",
    "(105, \"Maria\", \"Headphones\", \"2019-05-30\", 6, 48, '8865316698'),\n",
    "(106, \"Danny\", \"Smart-TV\", \"2018-08-20\", 10, 300, '7720130449');\n",
    "\"\"\"\n",
    "\n",
    "connection = create_db_connection(\"localhost\", \"root\", pw, db)\n",
    "execute_query(connection, data_orders)"
   ]
  },
  {
   "cell_type": "code",
   "execution_count": 12,
   "id": "47a7548b",
   "metadata": {},
   "outputs": [],
   "source": [
    "def read_query(connection, query):\n",
    "    cursor = connection.cursor()\n",
    "    result = None\n",
    "    try:\n",
    "        cursor.execute(query)\n",
    "        result = cursor.fetchall()\n",
    "        return result\n",
    "    except Error as err:\n",
    "        print(f\"Error: '{err}'\")\n",
    "     "
   ]
  },
  {
   "cell_type": "code",
   "execution_count": 13,
   "id": "76e18921",
   "metadata": {},
   "outputs": [
    {
     "name": "stdout",
     "output_type": "stream",
     "text": [
      "MySQL Database Connection Successful\n",
      "(101, 'Steve', 'Laptop', datetime.date(2018, 6, 12), 2, 800.0, '6293730802')\n",
      "(102, 'Jos', 'Books', datetime.date(2019, 2, 10), 10, 12.0, '8367489124')\n",
      "(103, 'Stacy', 'Trousers', datetime.date(2019, 12, 25), 5, 50.0, '8976123645')\n",
      "(104, 'Nancy', 'T-shirts', datetime.date(2018, 7, 14), 7, 30.0, '7368145099')\n",
      "(105, 'Maria', 'Headphones', datetime.date(2019, 5, 30), 6, 48.0, '8865316698')\n",
      "(106, 'Danny', 'Smart-TV', datetime.date(2018, 8, 20), 10, 300.0, '7720130449')\n"
     ]
    }
   ],
   "source": [
    " #Using the select Statement\n",
    "q1 =\"\"\"\n",
    "select * from orders\n",
    "\"\"\" \n",
    "connection = create_db_connection(\"localhost\", \"root\", pw, db)\n",
    "results = read_query(connection, q1)\n",
    "for result in  results:\n",
    "    print(result)"
   ]
  },
  {
   "cell_type": "code",
   "execution_count": 14,
   "id": "19902f55",
   "metadata": {},
   "outputs": [
    {
     "name": "stdout",
     "output_type": "stream",
     "text": [
      "MySQL Database Connection Successful\n",
      "('Steve', '6293730802')\n",
      "('Jos', '8367489124')\n",
      "('Stacy', '8976123645')\n",
      "('Nancy', '7368145099')\n",
      "('Maria', '8865316698')\n",
      "('Danny', '7720130449')\n"
     ]
    }
   ],
   "source": [
    "  q2 =\"\"\"\n",
    "select customer_name, phone_number from orders\n",
    "\"\"\" \n",
    "connection = create_db_connection(\"localhost\", \"root\", pw, db)\n",
    "results = read_query(connection, q2)\n",
    "for result in  results:\n",
    "    print(result)"
   ]
  },
  {
   "cell_type": "code",
   "execution_count": 16,
   "id": "93c31e18",
   "metadata": {},
   "outputs": [
    {
     "name": "stdout",
     "output_type": "stream",
     "text": [
      "MySQL Database Connection Successful\n",
      "(2018,)\n",
      "(2019,)\n",
      "(2019,)\n",
      "(2018,)\n",
      "(2019,)\n",
      "(2018,)\n"
     ]
    }
   ],
   "source": [
    "q3 =\"\"\"\n",
    "select year(date_ordered) from orders\n",
    "\"\"\" \n",
    "connection = create_db_connection(\"localhost\", \"root\", pw, db)\n",
    "results = read_query(connection, q3)\n",
    "for result in  results:\n",
    "    print(result)"
   ]
  },
  {
   "cell_type": "code",
   "execution_count": 17,
   "id": "9b1f4303",
   "metadata": {},
   "outputs": [
    {
     "name": "stdout",
     "output_type": "stream",
     "text": [
      "MySQL Database Connection Successful\n",
      "(2018,)\n",
      "(2019,)\n"
     ]
    }
   ],
   "source": [
    "q4 =\"\"\"\n",
    "select distinct year(date_ordered) from orders\n",
    "\"\"\" \n",
    "connection = create_db_connection(\"localhost\", \"root\", pw, db)\n",
    "results = read_query(connection, q4)\n",
    "for result in  results:\n",
    "    print(result)"
   ]
  },
  {
   "cell_type": "code",
   "execution_count": 19,
   "id": "6d8743d3",
   "metadata": {},
   "outputs": [
    {
     "name": "stdout",
     "output_type": "stream",
     "text": [
      "MySQL Database Connection Successful\n",
      "(101, 'Steve', 'Laptop', datetime.date(2018, 6, 12), 2, 800.0, '6293730802')\n",
      "(104, 'Nancy', 'T-shirts', datetime.date(2018, 7, 14), 7, 30.0, '7368145099')\n",
      "(106, 'Danny', 'Smart-TV', datetime.date(2018, 8, 20), 10, 300.0, '7720130449')\n"
     ]
    }
   ],
   "source": [
    "q5 =\"\"\"\n",
    "select * from orders where date_ordered < '2018-12-31'\n",
    "\"\"\" \n",
    "connection = create_db_connection(\"localhost\", \"root\", pw, db)\n",
    "results = read_query(connection, q5)\n",
    "for result in  results:\n",
    "    print(result)"
   ]
  },
  {
   "cell_type": "code",
   "execution_count": 20,
   "id": "dccafcbb",
   "metadata": {},
   "outputs": [
    {
     "name": "stdout",
     "output_type": "stream",
     "text": [
      "MySQL Database Connection Successful\n",
      "(102, 'Jos', 'Books', datetime.date(2019, 2, 10), 10, 12.0, '8367489124')\n",
      "(103, 'Stacy', 'Trousers', datetime.date(2019, 12, 25), 5, 50.0, '8976123645')\n",
      "(105, 'Maria', 'Headphones', datetime.date(2019, 5, 30), 6, 48.0, '8865316698')\n"
     ]
    }
   ],
   "source": [
    "q6 =\"\"\"\n",
    "select * from orders where date_ordered > '2018-12-31'\n",
    "\"\"\" \n",
    "connection = create_db_connection(\"localhost\", \"root\", pw, db)\n",
    "results = read_query(connection, q6)\n",
    "for result in  results:\n",
    "    print(result)"
   ]
  },
  {
   "cell_type": "code",
   "execution_count": 21,
   "id": "efacb842",
   "metadata": {},
   "outputs": [
    {
     "name": "stdout",
     "output_type": "stream",
     "text": [
      "MySQL Database Connection Successful\n",
      "(102, 'Jos', 'Books', datetime.date(2019, 2, 10), 10, 12.0, '8367489124')\n",
      "(104, 'Nancy', 'T-shirts', datetime.date(2018, 7, 14), 7, 30.0, '7368145099')\n",
      "(105, 'Maria', 'Headphones', datetime.date(2019, 5, 30), 6, 48.0, '8865316698')\n",
      "(103, 'Stacy', 'Trousers', datetime.date(2019, 12, 25), 5, 50.0, '8976123645')\n",
      "(106, 'Danny', 'Smart-TV', datetime.date(2018, 8, 20), 10, 300.0, '7720130449')\n",
      "(101, 'Steve', 'Laptop', datetime.date(2018, 6, 12), 2, 800.0, '6293730802')\n"
     ]
    }
   ],
   "source": [
    "q7 =\"\"\"\n",
    "select * from orders order by unit_price\n",
    "\"\"\" \n",
    "connection = create_db_connection(\"localhost\", \"root\", pw, db)\n",
    "results = read_query(connection, q7)\n",
    "for result in  results:\n",
    "    print(result)"
   ]
  },
  {
   "cell_type": "code",
   "execution_count": 22,
   "id": "ab0201e1",
   "metadata": {},
   "outputs": [
    {
     "data": {
      "text/html": [
       "<div>\n",
       "<style scoped>\n",
       "    .dataframe tbody tr th:only-of-type {\n",
       "        vertical-align: middle;\n",
       "    }\n",
       "\n",
       "    .dataframe tbody tr th {\n",
       "        vertical-align: top;\n",
       "    }\n",
       "\n",
       "    .dataframe thead th {\n",
       "        text-align: right;\n",
       "    }\n",
       "</style>\n",
       "<table border=\"1\" class=\"dataframe\">\n",
       "  <thead>\n",
       "    <tr style=\"text-align: right;\">\n",
       "      <th></th>\n",
       "      <th>Order Id</th>\n",
       "      <th>Customer Name</th>\n",
       "      <th>Product Name</th>\n",
       "      <th>Date Ordered</th>\n",
       "      <th>Quantity</th>\n",
       "      <th>Unit Price</th>\n",
       "      <th>Phone Number</th>\n",
       "    </tr>\n",
       "  </thead>\n",
       "  <tbody>\n",
       "    <tr>\n",
       "      <th>0</th>\n",
       "      <td>102</td>\n",
       "      <td>Jos</td>\n",
       "      <td>Books</td>\n",
       "      <td>2019-02-10</td>\n",
       "      <td>10</td>\n",
       "      <td>12.0</td>\n",
       "      <td>8367489124</td>\n",
       "    </tr>\n",
       "    <tr>\n",
       "      <th>1</th>\n",
       "      <td>104</td>\n",
       "      <td>Nancy</td>\n",
       "      <td>T-shirts</td>\n",
       "      <td>2018-07-14</td>\n",
       "      <td>7</td>\n",
       "      <td>30.0</td>\n",
       "      <td>7368145099</td>\n",
       "    </tr>\n",
       "    <tr>\n",
       "      <th>2</th>\n",
       "      <td>105</td>\n",
       "      <td>Maria</td>\n",
       "      <td>Headphones</td>\n",
       "      <td>2019-05-30</td>\n",
       "      <td>6</td>\n",
       "      <td>48.0</td>\n",
       "      <td>8865316698</td>\n",
       "    </tr>\n",
       "    <tr>\n",
       "      <th>3</th>\n",
       "      <td>103</td>\n",
       "      <td>Stacy</td>\n",
       "      <td>Trousers</td>\n",
       "      <td>2019-12-25</td>\n",
       "      <td>5</td>\n",
       "      <td>50.0</td>\n",
       "      <td>8976123645</td>\n",
       "    </tr>\n",
       "    <tr>\n",
       "      <th>4</th>\n",
       "      <td>106</td>\n",
       "      <td>Danny</td>\n",
       "      <td>Smart-TV</td>\n",
       "      <td>2018-08-20</td>\n",
       "      <td>10</td>\n",
       "      <td>300.0</td>\n",
       "      <td>7720130449</td>\n",
       "    </tr>\n",
       "    <tr>\n",
       "      <th>5</th>\n",
       "      <td>101</td>\n",
       "      <td>Steve</td>\n",
       "      <td>Laptop</td>\n",
       "      <td>2018-06-12</td>\n",
       "      <td>2</td>\n",
       "      <td>800.0</td>\n",
       "      <td>6293730802</td>\n",
       "    </tr>\n",
       "  </tbody>\n",
       "</table>\n",
       "</div>"
      ],
      "text/plain": [
       "   Order Id Customer Name Product Name Date Ordered  Quantity  Unit Price  \\\n",
       "0       102           Jos        Books   2019-02-10        10        12.0   \n",
       "1       104         Nancy     T-shirts   2018-07-14         7        30.0   \n",
       "2       105         Maria   Headphones   2019-05-30         6        48.0   \n",
       "3       103         Stacy     Trousers   2019-12-25         5        50.0   \n",
       "4       106         Danny     Smart-TV   2018-08-20        10       300.0   \n",
       "5       101         Steve       Laptop   2018-06-12         2       800.0   \n",
       "\n",
       "  Phone Number  \n",
       "0   8367489124  \n",
       "1   7368145099  \n",
       "2   8865316698  \n",
       "3   8976123645  \n",
       "4   7720130449  \n",
       "5   6293730802  "
      ]
     },
     "metadata": {},
     "output_type": "display_data"
    }
   ],
   "source": [
    "from_db = []\n",
    "\n",
    "for result in results:\n",
    "    result = list(result)\n",
    "    from_db.append(result)\n",
    "columns = [\"Order Id\", \"Customer Name\", \"Product Name\", \"Date Ordered\", \"Quantity\",\n",
    "          \"Unit Price\", \"Phone Number\"]\n",
    "\n",
    "df = pd.DataFrame(from_db, columns = columns)\n",
    "display(df )"
   ]
  },
  {
   "cell_type": "code",
   "execution_count": 24,
   "id": "47b32525",
   "metadata": {},
   "outputs": [
    {
     "name": "stdout",
     "output_type": "stream",
     "text": [
      "MySQL Database Connection Successful\n",
      "Query was successful\n"
     ]
    }
   ],
   "source": [
    "#Update Command\n",
    "\n",
    "update = \"\"\"\n",
    "update orders\n",
    "set unit_price = 45\n",
    "where order_id=103\n",
    "\"\"\"\n",
    "connection = create_db_connection(\"localhost\", \"root\", pw, db)\n",
    "execute_query(connection, update)"
   ]
  },
  {
   "cell_type": "code",
   "execution_count": 25,
   "id": "fe0c0b43",
   "metadata": {},
   "outputs": [
    {
     "name": "stdout",
     "output_type": "stream",
     "text": [
      "MySQL Database Connection Successful\n",
      "(103, 'Stacy', 'Trousers', datetime.date(2019, 12, 25), 5, 45.0, '8976123645')\n"
     ]
    }
   ],
   "source": [
    "q8 =\"\"\"\n",
    "select * from orders where order_id = 103\n",
    "\"\"\" \n",
    "connection = create_db_connection(\"localhost\", \"root\", pw, db)\n",
    "results = read_query(connection, q8)\n",
    "for result in  results:\n",
    "    print(result)"
   ]
  },
  {
   "cell_type": "code",
   "execution_count": 27,
   "id": "be5a7860",
   "metadata": {},
   "outputs": [
    {
     "name": "stdout",
     "output_type": "stream",
     "text": [
      "MySQL Database Connection Successful\n",
      "Query was successful\n"
     ]
    }
   ],
   "source": [
    "#Delete Command\n",
    "delete_order = \"\"\"\n",
    "delete from orders\n",
    "where order_id = 105;\n",
    "\"\"\"\n",
    "connection = create_db_connection(\"localhost\", \"root\", pw, db)\n",
    "execute_query(connection, delete_order)"
   ]
  },
  {
   "cell_type": "code",
   "execution_count": 28,
   "id": "74fd7709",
   "metadata": {},
   "outputs": [
    {
     "name": "stdout",
     "output_type": "stream",
     "text": [
      "MySQL Database Connection Successful\n",
      "(101, 'Steve', 'Laptop', datetime.date(2018, 6, 12), 2, 800.0, '6293730802')\n",
      "(102, 'Jos', 'Books', datetime.date(2019, 2, 10), 10, 12.0, '8367489124')\n",
      "(103, 'Stacy', 'Trousers', datetime.date(2019, 12, 25), 5, 45.0, '8976123645')\n",
      "(104, 'Nancy', 'T-shirts', datetime.date(2018, 7, 14), 7, 30.0, '7368145099')\n",
      "(106, 'Danny', 'Smart-TV', datetime.date(2018, 8, 20), 10, 300.0, '7720130449')\n"
     ]
    }
   ],
   "source": [
    "q9 =\"\"\"\n",
    "select * from orders \n",
    "\"\"\" \n",
    "connection = create_db_connection(\"localhost\", \"root\", pw, db)\n",
    "results = read_query(connection, q9)\n",
    "for result in  results:\n",
    "    print(result)"
   ]
  },
  {
   "cell_type": "code",
   "execution_count": null,
   "id": "7e7b0480",
   "metadata": {},
   "outputs": [],
   "source": []
  }
 ],
 "metadata": {
  "kernelspec": {
   "display_name": "Python 3 (ipykernel)",
   "language": "python",
   "name": "python3"
  },
  "language_info": {
   "codemirror_mode": {
    "name": "ipython",
    "version": 3
   },
   "file_extension": ".py",
   "mimetype": "text/x-python",
   "name": "python",
   "nbconvert_exporter": "python",
   "pygments_lexer": "ipython3",
   "version": "3.9.0"
  },
  "vscode": {
   "interpreter": {
    "hash": "8f939dc046ae95b61db57b1ddfb635e5199eac9f7bf30422bfd106b8f44dc254"
   }
  }
 },
 "nbformat": 4,
 "nbformat_minor": 5
}
